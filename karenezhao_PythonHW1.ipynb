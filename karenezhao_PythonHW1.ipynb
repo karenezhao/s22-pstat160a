{
  "cells": [
    {
      "cell_type": "markdown",
      "metadata": {
        "id": "view-in-github",
        "colab_type": "text"
      },
      "source": [
        "<a href=\"https://colab.research.google.com/github/karenezhao/s22-pstat160a/blob/main/karenezhao_PythonHW1.ipynb\" target=\"_parent\"><img src=\"https://colab.research.google.com/assets/colab-badge.svg\" alt=\"Open In Colab\"/></a>"
      ]
    },
    {
      "cell_type": "markdown",
      "metadata": {
        "id": "k7Vrtd9tJ9B7"
      },
      "source": [
        "# Python Homework 1"
      ]
    },
    {
      "cell_type": "markdown",
      "metadata": {
        "id": "4AFa8-prJ9CA"
      },
      "source": [
        "<b> Instructions:</b> This Python Homework is due on <b> Tuesday, April 12th, at 11:59 p.m.</b> You have to submit your version of this Jupyter Notebook via Gradescope!"
      ]
    },
    {
      "cell_type": "markdown",
      "metadata": {
        "id": "ZScg6AJiJ9CB"
      },
      "source": [
        "In this homework you are supposed to use the random number generater random.random_sample from the numpy package to generate random numbers with three different distributions. \n",
        "\n",
        "Recall from the lecture that if $F:\\mathbb{R}\\rightarrow [0,1]$ is a distribution function with generalized inverse $F^{-1}:[0,1]\\rightarrow \\mathbb{R}$ and $U$ is a uniform random variable, then $F^{-1}(U)$ is a random variable with distribution function $F$.\n",
        "\n",
        "Using the function random.random_sample from numpy package write three functions: \n",
        "* exponentialRV(seed, mean,n) that returns for given seed a bunch of n random variables from an exponential distribution with the provided mean. Derive the generalized inverse distribution function analytically for your simulation.\n",
        "* binomial(seed, p,m,n) that returns for given seed a bunch of n Binomial distributed random numbers with the provided success probability p and the number of trial equal to m. You have to numerically calculate the inverse distribution function.\n",
        "* funnyDiceRV(seed,n) that returns for given seed a bunch of n random number which describe a biased die with distribution $\\mathbb{P}(\\{1\\})=\\mathbb{P}(\\{2\\})=1/6$,$\\mathbb{P}(\\{3\\})=\\mathbb{P}(\\{4\\})=1/4$ and $\\mathbb{P}(\\{5\\})=\\mathbb{P}(\\{6\\})=1/12$."
      ]
    },
    {
      "cell_type": "markdown",
      "source": [
        ""
      ],
      "metadata": {
        "id": "dAC2-a2BKMZM"
      }
    },
    {
      "cell_type": "code",
      "execution_count": 1,
      "metadata": {
        "id": "b2cnrzTkJ9CC"
      },
      "outputs": [],
      "source": [
        "import numpy as np\n",
        "import math\n",
        "import matplotlib.pyplot as plt"
      ]
    },
    {
      "cell_type": "markdown",
      "metadata": {
        "id": "8reGrLD_J9CE"
      },
      "source": [
        "Here should come your code for the three functions:"
      ]
    },
    {
      "cell_type": "code",
      "execution_count": 2,
      "metadata": {
        "id": "d--4wNqIJ9CE"
      },
      "outputs": [],
      "source": [
        "def exponentialRV(seed, mean,n):\n",
        "    \n",
        "    ##Here write your own code\n",
        "\n",
        "    np.random.seed(seed)\n",
        "    expontialSample = []\n",
        "    \n",
        "    for i in range(n):\n",
        "      u = np.random.random_sample(1) # return random floats in the half-open interval [0.0, 1.0).\n",
        "      x = -mean*math.log(1-u)\n",
        "      expontialSample.append(x)\n",
        "    \n",
        "    return expontialSample"
      ]
    },
    {
      "cell_type": "code",
      "execution_count": 3,
      "metadata": {
        "id": "YT7sYP1pJ9CF"
      },
      "outputs": [],
      "source": [
        "def binomial(seed, p,m,n):\n",
        "   \n",
        "    ##Here write your own code\n",
        "\n",
        "    np.random.seed(seed)\n",
        "    binomialSample = []\n",
        "    \n",
        "    for i in range(n):\n",
        "        u = np.random.random_sample(1)  # F(x)\n",
        "\n",
        "        sum = 0\n",
        "        for k in range(m):\n",
        "            pmf = (math.factorial(m)/ (math.factorial(k) * math.factorial(m-k))) * (p**k) * ((1-p)**(m-k))\n",
        "            if 0<=(sum + pmf) < u:\n",
        "                sum = sum + pmf\n",
        "            else:\n",
        "                binomialSample.append(k)\n",
        "                break\n",
        "    \n",
        "    return binomialSample"
      ]
    },
    {
      "cell_type": "code",
      "execution_count": 4,
      "metadata": {
        "id": "Fm2UtEjhJ9CF"
      },
      "outputs": [],
      "source": [
        "def funnyDiceRV(seed, n):\n",
        "      \n",
        "    ##Here write your own code\n",
        "\n",
        "    np.random.seed(seed)\n",
        "    funnyDiceSample = []\n",
        "    \n",
        "    for i in range(n):\n",
        "      p = np.random.random_sample(1) # float in interval [0, 1]\n",
        "      if 0 <= p < (1/6):\n",
        "        r = 1\n",
        "      elif (1/6) <= p < (1/6)+(1/6):\n",
        "        r = 2\n",
        "      elif ((1/6)+(1/6)) <= p < ((1/6)+(1/6)+(1/4)):\n",
        "        r = 3\n",
        "      elif ((1/6)+(1/6)+(1/4)) <= p < (1-(1/12)-(1/12)):\n",
        "        r = 4\n",
        "      elif (1-(1/12)-(1/12)) <= p < 1-(1/12):\n",
        "        r = 5\n",
        "      elif 1-(1/12) <= p < 1:\n",
        "        r = 6\n",
        "      funnyDiceSample.append(r)\n",
        "\n",
        "    return funnyDiceSample"
      ]
    },
    {
      "cell_type": "code",
      "execution_count": 5,
      "metadata": {
        "id": "2IbnIL1PJ9CF",
        "colab": {
          "base_uri": "https://localhost:8080/"
        },
        "outputId": "f208accb-1cfc-40aa-a4a2-fa7c05673ebb"
      },
      "outputs": [
        {
          "output_type": "stream",
          "name": "stdout",
          "text": [
            "[0.2623650861900565, 1.2171737414601362, 5.884564774747791, 0.3350978072529029, 2.301285780939671]\n",
            "[11, 13, 16, 11, 14]\n",
            "[1, 3, 5, 1, 3]\n"
          ]
        }
      ],
      "source": [
        "print(exponentialRV(105, 3,5))# You should test all three functions \n",
        "print(binomial(105, 0.7,20,5))\n",
        "print(funnyDiceRV(105, 5))"
      ]
    },
    {
      "cell_type": "markdown",
      "metadata": {
        "id": "4xJUpkeqJ9CG"
      },
      "source": [
        "You should use the following routine to plot a histogram of the distribution of all three simulated random variables"
      ]
    },
    {
      "cell_type": "code",
      "execution_count": 6,
      "metadata": {
        "collapsed": true,
        "id": "vRNvTa6kJ9CG",
        "colab": {
          "base_uri": "https://localhost:8080/",
          "height": 809
        },
        "outputId": "440be1b1-af6e-4cf7-f481-750008a3c524"
      },
      "outputs": [
        {
          "output_type": "display_data",
          "data": {
            "text/plain": [
              "<Figure size 432x288 with 1 Axes>"
            ],
            "image/png": "[encoded data removed]"
          },
          "metadata": {
            "needs_background": "light"
          }
        },
        {
          "output_type": "display_data",
          "data": {
            "text/plain": [
              "<Figure size 432x288 with 1 Axes>"
            ],
            "image/png": "[encoded data removed]"
          },
          "metadata": {
            "needs_background": "light"
          }
        },
        {
          "output_type": "display_data",
          "data": {
            "text/plain": [
              "<Figure size 432x288 with 1 Axes>"
            ],
            "image/png": "[encoded data removed]"
          },
          "metadata": {
            "needs_background": "light"
          }
        }
      ],
      "source": [
        "numberSimulations=10000\n",
        "exponentialSamples=exponentialRV(1, 2,numberSimulations)\n",
        "binomialSamples=binomial(1, 0.7,20,numberSimulations)\n",
        "funnyDiceSamples=funnyDiceRV(1, numberSimulations)\n",
        "\n",
        "#np.histogram(exponentialSamples)\n",
        "plt.hist(exponentialSamples, bins='auto')\n",
        "plt.title(\"Histogram Exponential\")\n",
        "plt.show()\n",
        "plt.hist(binomialSamples, bins='auto')\n",
        "plt.title(\"Histogram Binomial\")\n",
        "plt.show()\n",
        "plt.hist(funnyDiceSamples, bins='auto')\n",
        "plt.title(\"Histogram Funny Dice\")\n",
        "plt.show()"
      ]
    },
    {
      "cell_type": "markdown",
      "metadata": {
        "id": "vqb8_MBWJ9CH"
      },
      "source": [
        "For the exponential random variable, you should then test the empirical expectation and variance of the random variables you generated. Assume you have generated random variables $X_1,X_2,X_3,\\dots,X_n$ calculate the empirical mean \n",
        "\\begin{equation}\n",
        "\\hat{\\text{ }\\mu} =\\frac{\\sum^n_{i=1} X_i}{n}\n",
        "\\end{equation}\n",
        "and the empirical variance \n",
        "\\begin{equation}\n",
        "\\hat{\\text{ }\\sigma} = \\frac{\\sum^n_{i=1}(X_i - \\hat{\\mu})^2}{n}\n",
        "\\end{equation}\n",
        "Use 10000 simulations. Is the result of your calculation in line with what you expect? Why?"
      ]
    },
    {
      "cell_type": "code",
      "source": [
        "print(np.mean(exponentialSamples), np.var(exponentialSamples))"
      ],
      "metadata": {
        "colab": {
          "base_uri": "https://localhost:8080/"
        },
        "id": "TxMrKjxN6Sol",
        "outputId": "44c40372-1629-47c9-d65d-b2252bc19ea1"
      },
      "execution_count": 7,
      "outputs": [
        {
          "output_type": "stream",
          "name": "stdout",
          "text": [
            "1.9770938809848277 3.848581029324636\n"
          ]
        }
      ]
    },
    {
      "cell_type": "code",
      "execution_count": 8,
      "metadata": {
        "id": "BgaF9DiOJ9CH",
        "colab": {
          "base_uri": "https://localhost:8080/"
        },
        "outputId": "eb05fe66-00b4-426c-c2b3-9f4240e9ae5e"
      },
      "outputs": [
        {
          "output_type": "stream",
          "name": "stdout",
          "text": [
            "the empirical mean is:  1.9770938809848242\n",
            "the empirical variance is:  3.8485810293246394\n"
          ]
        }
      ],
      "source": [
        "#Here you add the few lines of code for your calculations\n",
        "mean = sum(exponentialSamples) / len(exponentialSamples)\n",
        "print(\"the empirical mean is: \" , mean)\n",
        "\n",
        "var = sum(\n",
        "    np.square([(x - mean) for x in exponentialSamples])\n",
        "    ) / len(exponentialSamples)\n",
        "print(\"the empirical variance is: \" , var)"
      ]
    },
    {
      "cell_type": "markdown",
      "metadata": {
        "id": "T0fuSWxWJ9CH"
      },
      "source": [
        "Explanation: <br>\n",
        "The result of my calculation **IS** in line with what I expected. <br>\n",
        "The parameter of the `exponentialSamples()` functions is given to us `mean = 2`($=\\frac{1}{\\frac{1}{2}}=\\frac{1}{λ}$). The empirical mean that we calculated from 10000 simulations is $\\approx 1.977094$, which is very close to `2`. <br>\n",
        "The `variance` of the exponential distribution is $\\frac{1}{λ^2}$$=\\frac{1}{(\\frac{1}{2})^2} = \\frac{1}{\\frac{1}{4}}=$ `4`. The empirical variance that we calculated from 10000 simulations is $\\approx 3.848581$, is also very close to `4`. <br>\n",
        "(See below for proof for Expected Value and Variance of the exponential random variable)\n"
      ]
    },
    {
      "cell_type": "markdown",
      "source": [
        ""
      ],
      "metadata": {
        "id": "qhzB0zctFTP4"
      }
    },
    {
      "cell_type": "code",
      "source": [
        "# check binomial\n",
        "print(20*0.7, 20*0.7*(1-0.7)) # E(X)=np, Var(x)=np(1-p)\n",
        "print(np.mean(binomialSamples), np.var(binomialSamples))\n",
        "\n",
        "# check funnyDice\n",
        "funny_mean = (1/6)*1+(1/6)*2+(1/4)*3+(1/4)*4+(1/12)*5+(1/12)*6\n",
        "funny_var = (1-funny_mean)**2*(1/6)+(2-funny_mean)**2*(1/6)+(3-funny_mean)**2*(1/4)+(4-funny_mean)**2*(1/4)+(5-funny_mean)**2*(1/12)+(6-funny_mean)**2*(1/12)\n",
        "print(funny_mean, funny_var) \n",
        "print(np.mean(funnyDiceSamples), np.var(funnyDiceSamples))"
      ],
      "metadata": {
        "colab": {
          "base_uri": "https://localhost:8080/"
        },
        "id": "A3sESO4UV2TP",
        "outputId": "822e4ed0-8227-4761-ced9-a34d6c474c02"
      },
      "execution_count": 9,
      "outputs": [
        {
          "output_type": "stream",
          "name": "stdout",
          "text": [
            "14.0 4.200000000000001\n",
            "13.978593578073422 4.136982997470011\n",
            "3.1666666666666665 2.138888888888889\n",
            "3.1537 2.1150763100000005\n"
          ]
        }
      ]
    },
    {
      "cell_type": "markdown",
      "source": [
        "\n",
        "---\n",
        "*scratch paper: deriving inverse function*<br>\n",
        "exponential **pdf**: $$f(x) =\\lambda e^{-\\lambda x}, x>0$$ \n",
        "find cdf\n",
        "$$F(x) = \\int_{-∞}^{x}f(x) \\, dx $$\n",
        "$$F(x) = \\int_{0}^{x}\\lambda e^{-\\lambda x} \\, = -e^{-\\lambda x}]^{x}_0 \\, = -e^{-\\lambda x}-(-1)$$\n",
        "$$F(x) = 1-e^{-\\lambda x} , \\,x>0$$\n",
        "derive the **inverse** of the cdf:\n",
        "$$e^{-\\lambda x} = 1- y$$\n",
        "$$-\\lambda x = ln(1-y)$$\n",
        "$$ x = -\\frac{1}{\\lambda}ln(1-y)$$\n",
        "so\n",
        "$$ F^{-1}(x) = -\\frac{1}{\\lambda}ln(1-x)$$\n",
        "the mean of $Exp(\\lambda)$ is $E(X) = \\frac{1}{\\lambda}$ <br>\n",
        "<br>\n",
        "\n",
        "---\n",
        "\n",
        "Binomial **pmf**: $X\\sim Bin(m \\, \\text{trials}, p)$ \n",
        "$$P(X=k) = \\binom{m}{k}p^k(1-p)^{m-k}$$\n",
        "**cdf**: $$F_X(x) = P(X\\leq x) = \\sum_{k=0}^{x} \\binom{m}{k}p^k(1-p)^{m-k}$$\n"
      ],
      "metadata": {
        "id": "JLJ6zxVYFRJl"
      }
    },
    {
      "cell_type": "markdown",
      "source": [
        "\n",
        "---\n",
        "\n",
        "*derivation of the mean and variance of an Exponential rv*:\n",
        "$$E(X) =  \\int_{-∞}^{∞}xf(x) dx = \\int_{0}^{∞}x\\lambda e^{-\\lambda x} dx $$\n",
        "integrating by parts $u = x \\, , dv = \\lambda e^{-\\lambda x} (∫ u dv = uv - ∫ v du.)$\n",
        "$$E(X) = x (-e^{-\\lambda x}) \\bigg| ^\\infty_0 - \\int_{0}^{∞}(-e^{-\\lambda x}) dx$$\n",
        "$\\hspace{60mm}= (0-0) + [\\frac{1}{-\\lambda}e^{-\\lambda x}]^{∞}_0 = \\frac{1}{-\\lambda} (0-1) = \\frac{1}{\\lambda}$ <br>\n",
        "\n",
        "$Var(x) = E[X^2] - [E(X)]^2$ <br>\n",
        "\n",
        "$$E[X^2] =  \\int_{-∞}^{∞}x^2f(x) dx = \\int_{0}^{∞}x^2\\lambda e^{-\\lambda x} dx $$\n",
        "integrating by parts $u = -x^2, dv=-\\lambda e^{-\\lambda x}$\n",
        "$$E[X^2] = -x^2e^{-\\lambda x}\\bigg| ^\\infty_0 - \\int_{0}^{∞}e^{-\\lambda x} \\neg 2x dx$$\n",
        "$\\hspace{61mm}= (0-0) + 2 \\int_{0}^{∞}e^{-\\lambda x}x dx$\n",
        "$\\hspace{61mm}= (0-0) + 2 \\frac{1}{\\lambda}\\lambda \\int_{0}^{∞}e^{-\\lambda x}x dx$\n",
        "$\\hspace{61mm}=2 \\frac{1}{\\lambda}E(X)$\n",
        "$$E[X^2] = \\frac{2}{\\lambda^2}$$\n",
        "$Var(x) = E[X^2] - [E(X)]^2 = \\frac{2}{\\lambda^2} - (\\frac{1}{\\lambda})^2 = \\frac{1}{\\lambda^2}$"
      ],
      "metadata": {
        "id": "TLNmaDUiEm5k"
      }
    }
  ],
  "metadata": {
    "anaconda-cloud": {},
    "kernelspec": {
      "display_name": "Python 3",
      "language": "python",
      "name": "python3"
    },
    "language_info": {
      "codemirror_mode": {
        "name": "ipython",
        "version": 3
      },
      "file_extension": ".py",
      "mimetype": "text/x-python",
      "name": "python",
      "nbconvert_exporter": "python",
      "pygments_lexer": "ipython3",
      "version": "3.8.5"
    },
    "colab": {
      "name": "karenezhao_PythonHW1.ipynb",
      "provenance": [],
      "collapsed_sections": [],
      "include_colab_link": true
    }
  },
  "nbformat": 4,
  "nbformat_minor": 0
}