{
  "cells": [
    {
      "cell_type": "markdown",
      "metadata": {
        "id": "view-in-github",
        "colab_type": "text"
      },
      "source": [
        "<a href=\"https://colab.research.google.com/github/karenezhao/s22-pstat160a/blob/main/karenezhao_PythonHW2.ipynb\" target=\"_parent\"><img src=\"https://colab.research.google.com/assets/colab-badge.svg\" alt=\"Open In Colab\"/></a>"
      ]
    },
    {
      "cell_type": "markdown",
      "metadata": {
        "id": "zPw8hPEFPElw"
      },
      "source": [
        "# Python Homework 2"
      ]
    },
    {
      "cell_type": "markdown",
      "metadata": {
        "id": "d3EIW-ApPEl5"
      },
      "source": [
        "##### A stochastic model for a car insurance company's total cost of damages from traffic accidents goes back to the work by Van der Lann and Louter, \"A statistical model for the costs of passenger car traffic accidents\", Journal of the Royal Statistical Society (1986).\n",
        "\n",
        "For every $k=1,2,3\\ldots$ we denote by the random variable $X_k$ the US dollar amount of a damage from a policy holder's traffic accident which will occur during the year 2022.\n",
        "\n",
        "We assume that $X_1$, $X_2$,... is an i.i.d. (independent and identically distributed) sequence of exponentially distributed random variables with an average claim size of 1,500 USD. The (random) total number of accidents $N$ in 2022 is assumed to be Poisson distributed with $\\lambda$ claims on average.\n",
        "\n",
        "It is assumed that the number of accidents is independent of the US dollar amount of damages for each accident. That is, the random variable $N$ is independent of the random variables $X_1$, $X_2$,...\n",
        "\n",
        "The total costs for the insurance company by the end of 2022 will thus be given by the <b>random sum</b> \n",
        "\n",
        "$$S_N := X_1 + X_2 + \\dots + X_N = \\sum_{k = 1}^{N} X_k.$$\n",
        "\n",
        "Note that the total number $N$ of accidents is random!"
      ]
    },
    {
      "cell_type": "markdown",
      "metadata": {
        "id": "BsYGlH9nPEl6"
      },
      "source": [
        "The goal of the current exercise is to approximate via simulation:\n",
        "\n",
        "* the conditional expected total costs $$\\mathbb{E}[S_N|N=j]$$ for the insurance company in 2022 given that the number of claims is equal to $j$, and\n",
        "\n",
        "* the expected total costs $$\\mathbb{E}[S_N]$$ for the insurance company in 2022, and\n",
        "\n",
        "* the probabilities that the total cost will not exceed $K$ USD, i.e., \n",
        "\n",
        "$$\\mathbb{P}[S_N \\leq K] \\quad \\text{for} \\, K = \\$30,000,\\text{  and  } K=\\$45,000$$\n"
      ]
    },
    {
      "cell_type": "markdown",
      "metadata": {
        "id": "GQWufGzBPEl7"
      },
      "source": [
        "As usual, we start with loading some packages:"
      ]
    },
    {
      "cell_type": "code",
      "execution_count": 1,
      "metadata": {
        "id": "8rtYOXuiPEl8"
      },
      "outputs": [],
      "source": [
        "import numpy as np\n",
        "import math"
      ]
    },
    {
      "cell_type": "code",
      "source": [
        "np.random.seed(426) # for reproducibility"
      ],
      "metadata": {
        "id": "qCG94m4DQSMb"
      },
      "execution_count": 2,
      "outputs": []
    },
    {
      "cell_type": "markdown",
      "metadata": {
        "id": "pb966BciPEl9"
      },
      "source": [
        "<b>Step 1:</b><br>\n",
        "First, write a function <tt>randomSum()</tt> which simulates from the distribution of $S_N$ given that $N=j$. The output should just be a single scalar!\n",
        "\n",
        "<i>Hint:</i> Use proper build-in functions from the <i>NumPy</i>-package in your code in order to sample from an Exponential distribution (check out the GettingStarted python file): "
      ]
    },
    {
      "cell_type": "code",
      "execution_count": 3,
      "metadata": {
        "id": "PCOMcc_TPEl-"
      },
      "outputs": [],
      "source": [
        "def randomSum(averageClaimSize, j):\n",
        "    \n",
        "    ## Write your own code here\n",
        "\n",
        "    N = np.random.poisson(lam= j, size= 1) # the (random) total number of accidents 𝑁 in 2022 is assumed to be Poisson distributed with 𝜆 claims on average\n",
        "\n",
        "    X = np.random.exponential(scale= averageClaimSize, size=N) # exponentially distributed random variables with an average claim size of \n",
        "\n",
        "    sampleSum = sum(X)\n",
        "\n",
        "    return sampleSum  "
      ]
    },
    {
      "cell_type": "code",
      "execution_count": 4,
      "metadata": {
        "colab": {
          "base_uri": "https://localhost:8080/"
        },
        "id": "Fd3FStHYPEmA",
        "outputId": "96af3904-7706-4242-8deb-879112a62cb2"
      },
      "outputs": [
        {
          "output_type": "execute_result",
          "data": {
            "text/plain": [
              "34311.06484271535"
            ]
          },
          "metadata": {},
          "execution_count": 4
        }
      ],
      "source": [
        "## Test your function\n",
        "randomSum(1500,20)"
      ]
    },
    {
      "cell_type": "markdown",
      "metadata": {
        "id": "soT9CdMnPEmB"
      },
      "source": [
        "<b>Step 2:</b><br>Write a function <tt>simulatorConditional()</tt> which uses the function <tt>randomSum()</tt> to simulate $M \\in \\mathbb{N}$ samples from the distribution of $S_N$ given that $N=j$. The output should be an array of length $M$."
      ]
    },
    {
      "cell_type": "code",
      "execution_count": 5,
      "metadata": {
        "id": "loG5tBbqPEmB"
      },
      "outputs": [],
      "source": [
        "def simulatorConditional(averageClaimSize, j, M):\n",
        "\n",
        "    ## Write your own code here\n",
        "    samples = []\n",
        "\n",
        "    for i in range(M):\n",
        "      samp = randomSum(averageClaimSize = averageClaimSize, j = j)\n",
        "      samples.append(samp)\n",
        "    \n",
        "    return samples"
      ]
    },
    {
      "cell_type": "code",
      "execution_count": 6,
      "metadata": {
        "colab": {
          "base_uri": "https://localhost:8080/"
        },
        "id": "tebgkrMHPEmC",
        "outputId": "c1f2307f-746a-4d36-db0d-a709e148c34b"
      },
      "outputs": [
        {
          "output_type": "execute_result",
          "data": {
            "text/plain": [
              "[47344.044894718856,\n",
              " 37587.29828570071,\n",
              " 34818.557547928714,\n",
              " 33282.74775412106,\n",
              " 35089.10351857625,\n",
              " 18975.604500104135,\n",
              " 47253.77339330141,\n",
              " 26987.680497613448,\n",
              " 28952.25171887885,\n",
              " 19756.87423814238]"
            ]
          },
          "metadata": {},
          "execution_count": 6
        }
      ],
      "source": [
        "## Test your function\n",
        "simulatorConditional(1500,20,10)"
      ]
    },
    {
      "cell_type": "markdown",
      "metadata": {
        "id": "qatH0R7zPEmD"
      },
      "source": [
        "<b>Step 3:</b><br>Use your <tt>simulatorConditional()</tt> function to approximate the conditional expectation $$\\mathbb{E}[S_N|N=j]$$ for $j=10$ and $j=20$.\n",
        "\n",
        "For this, you generate with your function <tt>simulatorConditional()</tt> a bunch of $M=1,000$ independent realizations (samples) $s^{(1)}_j, s^{(2)}_j, \\ldots, s^{(M)}_j$ with the distribution of $S_N$ given $N=j$. Then you can approximate:\n",
        "$$ \\$j \\cdot 1,500 = \\mathbb{E}[S_N|N=j] \\approx \\frac{1}{M} \\sum_{m=1}^M s^{(m)}_j,$$\n",
        "and check the accuracy of this approximation."
      ]
    },
    {
      "cell_type": "code",
      "execution_count": 7,
      "metadata": {
        "colab": {
          "base_uri": "https://localhost:8080/"
        },
        "id": "gYhqEoThPEmD",
        "outputId": "e67ce549-751a-446f-c629-a48a78491876"
      },
      "outputs": [
        {
          "output_type": "stream",
          "name": "stdout",
          "text": [
            "$j * 1500 =  15000\n",
            "E[S_N | N = 10] ~  14747.668641489192\n",
            "$j * 1500 =  30000\n",
            "E[S_N | N = 20] ~  29995.342403569495\n"
          ]
        }
      ],
      "source": [
        "## Here comes your code \n",
        "j_10 = simulatorConditional(averageClaimSize = 1500, j = 10, M = 1000)\n",
        "\n",
        "print(\"$j * 1500 = \", 10*1500)\n",
        "print(\"E[S_N | N = 10] ~ \", np.mean(j_10))\n",
        "\n",
        "j_20 = simulatorConditional(averageClaimSize = 1500, j = 20, M = 1000)\n",
        "\n",
        "print(\"$j * 1500 = \", 20*1500)\n",
        "print(\"E[S_N | N = 20] ~ \", np.mean(j_20))"
      ]
    },
    {
      "cell_type": "markdown",
      "metadata": {
        "id": "BBomcF7jPEmE"
      },
      "source": [
        "<b>Step 4:</b><br>Write another simulator function which again uses the function <tt>randomSum()</tt> to simulate $M \\in \\mathbb{N}$ samples now from the unconditional distribution of $S_N$. You will need to write a function <tt>simulator()</tt> that passes Poisson distributed random numbers into the second argument of <tt>randomSum()</tt> now. The output of the function <tt>simulator()</tt> should be an array of length $M$."
      ]
    },
    {
      "cell_type": "code",
      "execution_count": 8,
      "metadata": {
        "id": "a-koS4gZPEmE"
      },
      "outputs": [],
      "source": [
        "def simulator(averageClaimSize, Poissonparameter, M):\n",
        "\n",
        "    ## Write your own code here\n",
        "\n",
        "    samples = []\n",
        "    \n",
        "    for i in range(M):\n",
        "      j = np.random.poisson(lam= Poissonparameter, size= 1)  # Poisson distributed random numbers into the second argument of randomSum()\n",
        "      samp = randomSum(averageClaimSize = averageClaimSize, j = j)\n",
        "      samples.append(samp)\n",
        "   \n",
        "    return samples"
      ]
    },
    {
      "cell_type": "markdown",
      "metadata": {
        "id": "VGC9xsu9PEmF"
      },
      "source": [
        "<b>Step 5:</b><br>We now assume that the average number of claims per year is $20$ and therefore choose $\\lambda=20$. As you are seeing in the homework, it holds via the so-called <b>Wald's Identity</b> that the expectation of the random sum $S_N$ is actually given by the formula\n",
        "\n",
        "\\begin{equation}\n",
        "\\mathbb{E}[S_N] = \\mathbb{E}[N] \\cdot \\mathbb{E}[X_1] = 20 \\cdot \\$1,500 = \\$30,000.\n",
        "\\end{equation}\n",
        "\n",
        "Check via the empirical mean that\n",
        "\n",
        "$$ \\$30,000 = \\mathbb{E}[S_N] \\approx \\frac{1}{M} \\sum_{m=1}^M s^{(m)}_N$$\n",
        "\n",
        "where $s^{(1)}_N, s^{(2)}_N, \\ldots, s^{(M)}_N$ denote $M$ independent realizations (samples) from the random variable $S_N$. Use $M = 5000$ simulations.  "
      ]
    },
    {
      "cell_type": "code",
      "execution_count": 9,
      "metadata": {
        "colab": {
          "base_uri": "https://localhost:8080/"
        },
        "id": "u_O12PRFPEmF",
        "outputId": "75474db4-893d-49bb-b51f-19efa0179677"
      },
      "outputs": [
        {
          "output_type": "stream",
          "name": "stdout",
          "text": [
            "$30,000 ~ 29974.983436303366\n"
          ]
        }
      ],
      "source": [
        "## Here comes your code \n",
        "\n",
        "M = 5000\n",
        "s_m = simulator(averageClaimSize= 1500, Poissonparameter= 20, M= M)\n",
        "print(\"$30,000 ~\", sum(s_m)/M)"
      ]
    },
    {
      "cell_type": "markdown",
      "metadata": {
        "id": "JGOxejdoPEmG"
      },
      "source": [
        "<b>Step 6: </b><br>Recall from class that the desired probabilities $\\mathbb{P}[S_N \\leq K]$ for $K = \\$30,000,\\text{ and } \\$45,000$ can be computed as expectations via an indicator function\n",
        "\n",
        "$$ \\mathbb{P}[S_N \\leq K] = \\mathbb{E}[1_{\\{S_N \\leq K\\}}]$$\n",
        "\n",
        "We use once more the empricial mean to approximate\n",
        "\n",
        "$$ \\mathbb{E}[1_{\\{S_N \\leq K\\}}] \\approx \\frac{1}{M} \\sum_{m=1}^M 1_{\\{s^{(m)}_N \\leq K \\}}$$\n",
        "\n",
        "with $M$ independent realizations (samples) from the random variable $S_N$ (again denoted by $s^{(1)}_N, s^{(2)}_N, \\ldots, s^{(M)}_N$)."
      ]
    },
    {
      "cell_type": "markdown",
      "metadata": {
        "id": "HSkqZpIAPEmG"
      },
      "source": [
        "Write a function <tt>MCprobEstimation()</tt> which estimates the probabilities $\\mathbb{P}[S_N \\leq K]$ for $K = \\$30,000,\\text{  and  } K=\\$45,000$ as described based on $M$ simulations of $S_N$. The output should be a real number in [0,1]:"
      ]
    },
    {
      "cell_type": "code",
      "execution_count": 10,
      "metadata": {
        "id": "ZiMHrsdEPEmH"
      },
      "outputs": [],
      "source": [
        "def MCprobEstimation(averageClaimSize, averageNumberOfClaims, K, M):\n",
        "\n",
        "    ## Write your own code here\n",
        "    \n",
        "    samples = simulator(averageClaimSize= averageClaimSize, Poissonparameter= averageNumberOfClaims, M= M)\n",
        "\n",
        "    compare = []\n",
        "    for s in samples:\n",
        "      compare.append( s <=K )\n",
        "\n",
        "    empiricalProb = np.mean(compare)\n",
        "\n",
        "    return empiricalProb"
      ]
    },
    {
      "cell_type": "code",
      "execution_count": 11,
      "metadata": {
        "colab": {
          "base_uri": "https://localhost:8080/"
        },
        "id": "Nu6cpvwSPEmH",
        "outputId": "0cb24419-8b01-4acd-b90a-e92365c01b9c"
      },
      "outputs": [
        {
          "output_type": "execute_result",
          "data": {
            "text/plain": [
              "0.3"
            ]
          },
          "metadata": {},
          "execution_count": 11
        }
      ],
      "source": [
        "## Test your function\n",
        "MCprobEstimation(1500, 20, 20000, 10)"
      ]
    },
    {
      "cell_type": "markdown",
      "metadata": {
        "id": "Ik9YHKNjPEmI"
      },
      "source": [
        "Test your function with varying $M = 100, 1000, 10000$ simulations:"
      ]
    },
    {
      "cell_type": "code",
      "source": [
        "averageClaimSize = 1500\n",
        "averageNumberOfClaims = 20"
      ],
      "metadata": {
        "id": "xlbvGzONQMHG"
      },
      "execution_count": 12,
      "outputs": []
    },
    {
      "cell_type": "code",
      "execution_count": 13,
      "metadata": {
        "colab": {
          "base_uri": "https://localhost:8080/"
        },
        "id": "RBHIWjQSPEmI",
        "outputId": "f2002d3e-2e0c-4158-c9b0-3fb5580220bd"
      },
      "outputs": [
        {
          "output_type": "stream",
          "name": "stdout",
          "text": [
            "0.49\n",
            "0.528\n",
            "0.5406\n"
          ]
        }
      ],
      "source": [
        "print(MCprobEstimation(1500, 20, 30000, 100))\n",
        "print(MCprobEstimation(1500, 20, 30000, 1000))\n",
        "print(MCprobEstimation(1500, 20, 30000, 10000))"
      ]
    },
    {
      "cell_type": "code",
      "execution_count": 14,
      "metadata": {
        "colab": {
          "base_uri": "https://localhost:8080/"
        },
        "id": "Z7JtjZMrPEmI",
        "outputId": "aea03d66-f6a1-4b95-9832-46a36796b142"
      },
      "outputs": [
        {
          "output_type": "stream",
          "name": "stdout",
          "text": [
            "0.9\n",
            "0.895\n",
            "0.8968\n"
          ]
        }
      ],
      "source": [
        "print(MCprobEstimation(1500, 20, 45000, 100))\n",
        "print(MCprobEstimation(1500, 20, 45000, 1000))\n",
        "print(MCprobEstimation(1500, 20, 45000, 10000))"
      ]
    }
  ],
  "metadata": {
    "anaconda-cloud": {},
    "kernelspec": {
      "display_name": "Python 3",
      "language": "python",
      "name": "python3"
    },
    "language_info": {
      "codemirror_mode": {
        "name": "ipython",
        "version": 3
      },
      "file_extension": ".py",
      "mimetype": "text/x-python",
      "name": "python",
      "nbconvert_exporter": "python",
      "pygments_lexer": "ipython3",
      "version": "3.8.8"
    },
    "colab": {
      "name": "karenezhao_PythonHW2.ipynb",
      "provenance": [],
      "collapsed_sections": [],
      "include_colab_link": true
    }
  },
  "nbformat": 4,
  "nbformat_minor": 0
}